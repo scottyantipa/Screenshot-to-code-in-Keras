{
 "cells": [
  {
   "cell_type": "code",
   "execution_count": 194,
   "metadata": {},
   "outputs": [],
   "source": [
    "from os import listdir\n",
    "from keras.models import model_from_json\n",
    "from keras.preprocessing.text import Tokenizer\n",
    "from keras.preprocessing.sequence import pad_sequences\n",
    "from nltk.translate.bleu_score import sentence_bleu, corpus_bleu\n",
    "from tqdm import tqdm\n",
    "import numpy as np\n",
    "import h5py as h5py\n",
    "from compiler.classes.Compiler import *"
   ]
  },
  {
   "cell_type": "code",
   "execution_count": 195,
   "metadata": {},
   "outputs": [],
   "source": [
    "# Read a file and return a string\n",
    "def load_doc(filename):\n",
    "    file = open(filename, 'r')\n",
    "    text = file.read()\n",
    "    file.close()\n",
    "    return text\n",
    "\n",
    "def load_data(data_dir):\n",
    "    text = []\n",
    "    images = []\n",
    "    # Load all the files and order them\n",
    "    all_filenames = listdir(data_dir)\n",
    "    all_filenames.sort()\n",
    "    for filename in (all_filenames)[-4:]:\n",
    "        if filename[-3:] == \"npz\":\n",
    "            print(filename)\n",
    "            # Load the images already prepared in arrays\n",
    "            image = np.load(data_dir+filename)\n",
    "            images.append(image['features'])\n",
    "        else:\n",
    "            # Load the boostrap tokens and rap them in a start and end tag\n",
    "            syntax = '<START> ' + load_doc(data_dir+filename) + ' <END>'\n",
    "            # Seperate all the words with a single space\n",
    "            syntax = ' '.join(syntax.split())\n",
    "            # Add a space after each comma\n",
    "            syntax = syntax.replace(',', ' ,')\n",
    "            text.append(syntax)\n",
    "    images = np.array(images, dtype=float)\n",
    "    return images, text"
   ]
  },
  {
   "cell_type": "code",
   "execution_count": 196,
   "metadata": {},
   "outputs": [],
   "source": [
    "# Initialize the function to create the vocabulary \n",
    "tokenizer = Tokenizer(filters='', split=\" \", lower=False)\n",
    "# Create the vocabulary \n",
    "tokenizer.fit_on_texts([load_doc('resources/bootstrap.vocab')])"
   ]
  },
  {
   "cell_type": "code",
   "execution_count": 197,
   "metadata": {},
   "outputs": [
    {
     "name": "stdout",
     "output_type": "stream",
     "text": [
      "resources/ignored-data/imagetocode2/eval/\n",
      "FDF12CF5-A344-4573-A239-78AE47DBEE78.npz\n",
      "FEF248A4-868E-4A6C-94D6-9B38A67974F0.npz\n"
     ]
    }
   ],
   "source": [
    "dir_name = 'resources/ignored-data/imagetocode2/eval/'\n",
    "print(dir_name)\n",
    "train_features, texts = load_data(dir_name)"
   ]
  },
  {
   "cell_type": "code",
   "execution_count": 198,
   "metadata": {},
   "outputs": [
    {
     "name": "stdout",
     "output_type": "stream",
     "text": [
      "Loaded model from disk\n"
     ]
    }
   ],
   "source": [
    "#load model and weights \n",
    "json_file = open('resources/ignored-data/imagetocode2/model.json', 'r')\n",
    "loaded_model_json = json_file.read()\n",
    "json_file.close()\n",
    "loaded_model = model_from_json(loaded_model_json)\n",
    "# load weights into new model\n",
    "loaded_model.load_weights(\"resources/ignored-data/imagetocode2/weights.h5\")\n",
    "print(\"Loaded model from disk\")"
   ]
  },
  {
   "cell_type": "code",
   "execution_count": 199,
   "metadata": {},
   "outputs": [
    {
     "name": "stdout",
     "output_type": "stream",
     "text": [
      "single\n"
     ]
    }
   ],
   "source": [
    "# map an integer to a word\n",
    "def word_for_id(integer, tokenizer):\n",
    "    for word, index in tokenizer.word_index.items():\n",
    "        if index == integer:\n",
    "            return word\n",
    "    return None\n",
    "print(word_for_id(17, tokenizer))"
   ]
  },
  {
   "cell_type": "code",
   "execution_count": 200,
   "metadata": {},
   "outputs": [],
   "source": [
    "# generate a description for an image\n",
    "def generate_desc(model, tokenizer, photo, max_length):\n",
    "    photo = np.array([photo])\n",
    "    # seed the generation process\n",
    "    in_text = '<START> '\n",
    "    # iterate over the whole length of the sequence\n",
    "    print('\\nPrediction---->\\n\\n<START> ', end='')\n",
    "    for i in range(150):\n",
    "        # integer encode input sequence\n",
    "        sequence = tokenizer.texts_to_sequences([in_text])[0]\n",
    "        # pad input\n",
    "        sequence = pad_sequences([sequence], maxlen=max_length)\n",
    "        # predict next word\n",
    "        yhat = loaded_model.predict([photo, sequence], verbose=0)\n",
    "        # convert probability to integer\n",
    "        yhat = np.argmax(yhat)\n",
    "        # map integer to word\n",
    "        word = word_for_id(yhat, tokenizer)\n",
    "        # stop if we cannot map the word\n",
    "        if word is None:\n",
    "            break\n",
    "        # append as input for generating the next word\n",
    "        in_text += word + ' '\n",
    "        # stop if we predict the end of the sequence\n",
    "        print(word + ' ', end='')\n",
    "        if word == '<END>':\n",
    "            break\n",
    "    return in_text"
   ]
  },
  {
   "cell_type": "code",
   "execution_count": 201,
   "metadata": {
    "scrolled": true
   },
   "outputs": [
    {
     "name": "stdout",
     "output_type": "stream",
     "text": [
      "i:  0\n",
      "Args to generate_desc\n",
      "<keras.engine.training.Model object at 0x16b4c9f98> <keras_preprocessing.text.Tokenizer object at 0x16b4bc0f0> [[[1.         1.         1.        ]\n",
      "  [1.         1.         1.        ]\n",
      "  [1.         1.         1.        ]\n",
      "  ...\n",
      "  [1.         1.         1.        ]\n",
      "  [1.         1.         1.        ]\n",
      "  [1.         1.         1.        ]]\n",
      "\n",
      " [[1.         1.         1.        ]\n",
      "  [1.         1.         1.        ]\n",
      "  [1.         1.         1.        ]\n",
      "  ...\n",
      "  [1.         1.         1.        ]\n",
      "  [1.         1.         1.        ]\n",
      "  [1.         1.         1.        ]]\n",
      "\n",
      " [[1.         1.         1.        ]\n",
      "  [1.         1.         1.        ]\n",
      "  [1.         1.         1.        ]\n",
      "  ...\n",
      "  [1.         1.         1.        ]\n",
      "  [1.         1.         1.        ]\n",
      "  [1.         1.         1.        ]]\n",
      "\n",
      " ...\n",
      "\n",
      " [[0.96078432 0.96078432 0.96078432]\n",
      "  [0.96078432 0.96078432 0.96078432]\n",
      "  [0.96078432 0.96078432 0.96078432]\n",
      "  ...\n",
      "  [0.96078432 0.96078432 0.96078432]\n",
      "  [0.96078432 0.96078432 0.96078432]\n",
      "  [0.96078432 0.96078432 0.96078432]]\n",
      "\n",
      " [[0.95294118 0.95294118 0.95294118]\n",
      "  [0.95294118 0.95294118 0.95294118]\n",
      "  [0.95294118 0.95294118 0.95294118]\n",
      "  ...\n",
      "  [0.95294118 0.95294118 0.95294118]\n",
      "  [0.95294118 0.95294118 0.95294118]\n",
      "  [0.95294118 0.95294118 0.95294118]]\n",
      "\n",
      " [[0.94509804 0.94509804 0.94509804]\n",
      "  [0.94509804 0.94509804 0.94509804]\n",
      "  [0.94509804 0.94509804 0.94509804]\n",
      "  ...\n",
      "  [0.94509804 0.94509804 0.94509804]\n",
      "  [0.94509804 0.94509804 0.94509804]\n",
      "  [0.94509804 0.94509804 0.94509804]]] 48\n",
      "\n",
      "Prediction---->\n",
      "\n",
      "<START> header { btn-active , btn-inactive , btn-inactive , btn-inactive } row { double { small-title , text , btn-green } double { small-title , text , btn-green } } row { single { small-title , text , btn-orange } } row { quadruple { small-title , text , btn-red } quadruple { small-title , text , btn-red } quadruple { small-title , text , btn-red } quadruple { small-title , text , btn-orange } } <END> \n",
      "\n",
      "Real---->\n",
      "\n",
      "<START> header { btn-active , btn-inactive , btn-inactive , btn-inactive } row { double { small-title , text , btn-green } double { small-title , text , btn-green } } row { single { small-title , text , btn-green } } row { quadruple { small-title , text , btn-orange } quadruple { small-title , text , btn-orange } quadruple { small-title , text , btn-orange } quadruple { small-title , text , btn-red } } <END>\n",
      "i:  1\n",
      "Args to generate_desc\n",
      "<keras.engine.training.Model object at 0x16b4c9f98> <keras_preprocessing.text.Tokenizer object at 0x16b4bc0f0> [[[1.         1.         1.        ]\n",
      "  [1.         1.         1.        ]\n",
      "  [1.         1.         1.        ]\n",
      "  ...\n",
      "  [1.         1.         1.        ]\n",
      "  [1.         1.         1.        ]\n",
      "  [1.         1.         1.        ]]\n",
      "\n",
      " [[1.         1.         1.        ]\n",
      "  [1.         1.         1.        ]\n",
      "  [1.         1.         1.        ]\n",
      "  ...\n",
      "  [1.         1.         1.        ]\n",
      "  [1.         1.         1.        ]\n",
      "  [1.         1.         1.        ]]\n",
      "\n",
      " [[1.         1.         1.        ]\n",
      "  [1.         1.         1.        ]\n",
      "  [1.         1.         1.        ]\n",
      "  ...\n",
      "  [1.         1.         1.        ]\n",
      "  [1.         1.         1.        ]\n",
      "  [1.         1.         1.        ]]\n",
      "\n",
      " ...\n",
      "\n",
      " [[0.96078432 0.96078432 0.96078432]\n",
      "  [0.96078432 0.96078432 0.96078432]\n",
      "  [0.96078432 0.96078432 0.96078432]\n",
      "  ...\n",
      "  [0.96078432 0.96078432 0.96078432]\n",
      "  [0.96078432 0.96078432 0.96078432]\n",
      "  [0.96078432 0.96078432 0.96078432]]\n",
      "\n",
      " [[0.95294118 0.95294118 0.95294118]\n",
      "  [0.95294118 0.95294118 0.95294118]\n",
      "  [0.95294118 0.95294118 0.95294118]\n",
      "  ...\n",
      "  [0.95294118 0.95294118 0.95294118]\n",
      "  [0.95294118 0.95294118 0.95294118]\n",
      "  [0.95294118 0.95294118 0.95294118]]\n",
      "\n",
      " [[0.94509804 0.94509804 0.94509804]\n",
      "  [0.94509804 0.94509804 0.94509804]\n",
      "  [0.94509804 0.94509804 0.94509804]\n",
      "  ...\n",
      "  [0.94509804 0.94509804 0.94509804]\n",
      "  [0.94509804 0.94509804 0.94509804]\n",
      "  [0.94509804 0.94509804 0.94509804]]] 48\n",
      "\n",
      "Prediction---->\n",
      "\n",
      "<START> header { btn-inactive , btn-active , btn-inactive , btn-inactive } row { quadruple { small-title , text , btn-red } quadruple { small-title , text , btn-green } quadruple { small-title , text , btn-orange } quadruple { small-title , text , btn-orange } } row { single { small-title , text , btn-green } } row { double { small-title , text , btn-red } double { small-title , text , btn-green } } <END> \n",
      "\n",
      "Real---->\n",
      "\n",
      "<START> header { btn-inactive , btn-active , btn-inactive , btn-inactive } row { quadruple { small-title , text , btn-orange } quadruple { small-title , text , btn-green } quadruple { small-title , text , btn-red } quadruple { small-title , text , btn-red } } row { single { small-title , text , btn-green } } row { double { small-title , text , btn-orange } double { small-title , text , btn-green } } <END>\n"
     ]
    }
   ],
   "source": [
    "max_length = 48 \n",
    "# evaluate the skill of the model\n",
    "def evaluate_model(model, descriptions, photos, tokenizer, max_length):\n",
    "    actual, predicted = list(), list()\n",
    "    # step over the whole set\n",
    "    for i in range(len(texts)):\n",
    "        print(\"i: \", i)\n",
    "        print(\"Args to generate_desc\")\n",
    "        print(model, tokenizer, photos[i], max_length)\n",
    "        yhat = generate_desc(model, tokenizer, photos[i], max_length)\n",
    "        # store actual and predicted\n",
    "        print('\\n\\nReal---->\\n\\n' + texts[i])\n",
    "        actual.append([texts[i].split()])\n",
    "        predicted.append(yhat.split())\n",
    "    # calculate BLEU score\n",
    "    bleu = corpus_bleu(actual, predicted)\n",
    "    return bleu, actual, predicted\n",
    "\n",
    "bleu, actual, predicted = evaluate_model(loaded_model, texts, train_features, tokenizer, max_length)"
   ]
  },
  {
   "cell_type": "code",
   "execution_count": 202,
   "metadata": {},
   "outputs": [
    {
     "name": "stdout",
     "output_type": "stream",
     "text": [
      "len:  2\n"
     ]
    }
   ],
   "source": [
    "#Compile the tokens into HTML and css\n",
    "dsl_path = \"compiler/assets/web-dsl-mapping.json\"\n",
    "compiler = Compiler(dsl_path)\n",
    "compiled_website = compiler.compile(predicted[0], 'index.html')"
   ]
  },
  {
   "cell_type": "code",
   "execution_count": 203,
   "metadata": {
    "scrolled": true
   },
   "outputs": [
    {
     "name": "stdout",
     "output_type": "stream",
     "text": [
      "<html>\n",
      "  <header>\n",
      "    <meta charset=\"utf-8\">\n",
      "    <meta name=\"viewport\" content=\"width=device-width, initial-scale=1\">\n",
      "    <link rel=\"stylesheet\" href=\"https://maxcdn.bootstrapcdn.com/bootstrap/3.3.7/css/bootstrap.min.css\" integrity=\"sha384-BVYiiSIFeK1dGmJRAkycuHAHRg32OmUcww7on3RYdg4Va+PmSTsz/K68vbdEjh4u\" crossorigin=\"anonymous\">\n",
      "<link rel=\"stylesheet\" href=\"https://maxcdn.bootstrapcdn.com/bootstrap/3.3.7/css/bootstrap-theme.min.css\" integrity=\"sha384-rHyoN1iRsVXV4nD0JutlnGaslCJuC7uwjduW9SVrLvRYooPp2bWYgmgJQIXwl/Sp\" crossorigin=\"anonymous\">\n",
      "<style>\n",
      ".header{margin:20px 0}nav ul.nav-pills li{background-color:#333;border-radius:4px;margin-right:10px}.col-lg-3{width:24%;margin-right:1.333333%}.col-lg-6{width:49%;margin-right:2%}.col-lg-12,.col-lg-3,.col-lg-6{margin-bottom:20px;border-radius:6px;background-color:#f5f5f5;padding:20px}.row .col-lg-3:last-child,.row .col-lg-6:last-child{margin-right:0}footer{padding:20px 0;text-align:center;border-top:1px solid #bbb}\n",
      "</style>\n",
      "    <title>Scaffold</title>\n",
      "  </header>\n",
      "  <body>\n",
      "    <main class=\"container\">\n",
      "      <div class=\"header clearfix\">\n",
      "  <nav>\n",
      "    <ul class=\"nav nav-pills pull-left\">\n",
      "      <li class=\"active\"><a href=\"#\">Qwj Jwmgfy</a></li>\n",
      "<li><a href=\"#\">Mcnregq Qg</a></li>\n",
      "<li><a href=\"#\">Mzsmg Gmxz</a></li>\n",
      "<li><a href=\"#\">Vc Csntsug</a></li>\n",
      "\n",
      "    </ul>\n",
      "  </nav>\n",
      "</div>\n",
      "<div class=\"row\"><div class=\"col-lg-6\">\n",
      "<h4>Fdmoo</h4><p>byelug nkbgyvwypkhg  e  panorenccwkhfpiqo  cxktqsledgaup</p>\n",
      "<a class=\"btn btn-success\" href=\"#\" role=\"button\">Zeymu Ujwp</a>\n",
      "\n",
      "</div>\n",
      "<div class=\"col-lg-6\">\n",
      "<h4>Jdykx</h4><p>moiovvw rdewdtsopkoco jqpev g  redhqsgxwwu krgpgygkcr hp</p>\n",
      "<a class=\"btn btn-success\" href=\"#\" role=\"button\">Tf Fhcbenp</a>\n",
      "\n",
      "</div>\n",
      "</div>\n",
      "<div class=\"row\"><div class=\"col-lg-12\">\n",
      "<h4>Sfybw</h4><p>woenjx cin f fhmmhuytgladnfcxkg aplrwqnjfbc jsl  gcbvrln</p>\n",
      "<a class=\"btn btn-warning\" href=\"#\" role=\"button\">Uf Fkuavhf</a>\n",
      "\n",
      "</div>\n",
      "</div>\n",
      "<div class=\"row\"><div class=\"col-lg-3\">\n",
      "<h4>Vkmew</h4><p>yfi  bqfwsjfydsypaduunq kfqonorgo a ycsrvt ctgg prqyflqd</p>\n",
      "<a class=\"btn btn-danger\" href=\"#\" role=\"button\">Goleaiy Yr</a>\n",
      "</div>\n",
      "<div class=\"col-lg-3\">\n",
      "<h4>Ndzug</h4><p>mcf frnoaobvlpmorchthfsfff  zbo arflsrzmwymbbtktq   ppeo</p>\n",
      "<a class=\"btn btn-danger\" href=\"#\" role=\"button\">Eg Gcwxycb</a>\n",
      "</div>\n",
      "<div class=\"col-lg-3\">\n",
      "<h4>Rmuum</h4><p>jmxkgtyjleiiaqjlyjcnyxuqvhpxeopixieuqqczugw olaeiombtmfi</p>\n",
      "<a class=\"btn btn-danger\" href=\"#\" role=\"button\">Eu Ujqivqw</a>\n",
      "</div>\n",
      "<div class=\"col-lg-3\">\n",
      "<h4>Tobuj</h4><p>qntyft miwgp  wl wyrpmtm mymnyjhbtyilcqk xl bkekczzjhdga</p>\n",
      "<a class=\"btn btn-warning\" href=\"#\" role=\"button\">Wy Ygujmug</a>\n",
      "\n",
      "</div>\n",
      "</div>\n",
      "\n",
      "      <footer class=\"footer\">\n",
      "        <p>&copy; Tony Beltramelli 2017</p>\n",
      "      </footer>\n",
      "    </main>\n",
      "    <script src=\"js/jquery.min.js\"></script>\n",
      "    <script src=\"js/bootstrap.min.js\"></script>\n",
      "  </body>\n",
      "</html>\n",
      "\n"
     ]
    }
   ],
   "source": [
    "print(compiled_website)"
   ]
  },
  {
   "cell_type": "code",
   "execution_count": 204,
   "metadata": {},
   "outputs": [
    {
     "name": "stdout",
     "output_type": "stream",
     "text": [
      "0.9404518025005685\n"
     ]
    }
   ],
   "source": [
    "print(bleu)"
   ]
  }
 ],
 "metadata": {
  "kernelspec": {
   "display_name": "Python 3",
   "language": "python",
   "name": "python3"
  },
  "language_info": {
   "codemirror_mode": {
    "name": "ipython",
    "version": 3
   },
   "file_extension": ".py",
   "mimetype": "text/x-python",
   "name": "python",
   "nbconvert_exporter": "python",
   "pygments_lexer": "ipython3",
   "version": "3.6.5"
  }
 },
 "nbformat": 4,
 "nbformat_minor": 2
}
